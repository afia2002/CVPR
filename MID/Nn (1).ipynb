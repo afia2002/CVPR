{
  "nbformat": 4,
  "nbformat_minor": 0,
  "metadata": {
    "colab": {
      "provenance": []
    },
    "kernelspec": {
      "name": "python3",
      "display_name": "Python 3"
    },
    "language_info": {
      "name": "python"
    }
  },
  "cells": [
    {
      "cell_type": "code",
      "execution_count": 33,
      "metadata": {
        "id": "FHYVtU1yAjZr"
      },
      "outputs": [],
      "source": [
        "import numpy as np\n",
        "import matplotlib.pyplot as plt\n",
        "np.random.seed(0)"
      ]
    },
    {
      "cell_type": "code",
      "source": [],
      "metadata": {
        "id": "a7JJ_W0pnt2l"
      },
      "execution_count": null,
      "outputs": []
    },
    {
      "cell_type": "code",
      "source": [
        "# Custom Health Dataset\n",
        "\n",
        "health_data = np.array([\n",
        "    [22, 19, 3, 0],\n",
        "    [25, 18, 2, 0],\n",
        "    [28, 21, 2, 0],\n",
        "    [30, 20, 3, 0],\n",
        "    [32, 23, 1.5, 0],\n",
        "    [28, 22, 1, 0],\n",
        "    [38, 25, 2, 1],\n",
        "    [40, 26, 1, 1],\n",
        "    [42, 27, 1.2, 1],\n",
        "    [45, 28, 0.5, 1],\n",
        "    [48, 29, 1, 1],\n",
        "    [50, 30, 1, 1],\n",
        "    [55, 31, 0.8, 1],\n",
        "    [58, 31, 0.5, 2],\n",
        "    [60, 32, 0.5, 2],\n",
        "    [62, 33, 0.3, 2],\n",
        "    [65, 35, 0, 2],\n",
        "    [68, 34, 0.2, 2],\n",
        "    [70, 36, 0, 2],\n",
        "    [72, 37, 0, 2],\n",
        "])\n"
      ],
      "metadata": {
        "id": "jHc-0c-lBBmz"
      },
      "execution_count": 34,
      "outputs": []
    },
    {
      "cell_type": "code",
      "source": [
        "# Split features & labels\n",
        "X = health_data[:, :3]\n",
        "y = health_data[:, 3]\n"
      ],
      "metadata": {
        "id": "5DTE71j8BDkA"
      },
      "execution_count": 35,
      "outputs": []
    },
    {
      "cell_type": "code",
      "source": [
        "# Normalize features (Min-Max scaling)\n",
        "X_min, X_max = np.min(X, axis=0), np.max(X, axis=0)\n",
        "X = (X - X_min) / (X_max - X_min)"
      ],
      "metadata": {
        "id": "uPzekkMwDhOZ"
      },
      "execution_count": 36,
      "outputs": []
    },
    {
      "cell_type": "code",
      "source": [
        " # Neural Network Class\n",
        "\n",
        "class HealthNN:\n",
        "    def __init__(self, input_nodes, hidden_nodes, output_nodes, lr):\n",
        "        self.lr = lr\n",
        "        self.W1 = np.random.randn(input_nodes, hidden_nodes) * 0.01\n",
        "        self.W2 = np.random.randn(hidden_nodes, output_nodes) * 0.01\n",
        "\n",
        "    def sigmoid(self, z, derivative=False):\n",
        "        if derivative:\n",
        "            return z * (1 - z)\n",
        "        return 1 / (1 + np.exp(-z))\n",
        "\n",
        "    def feedForward(self, X):\n",
        "        X = np.array(X)  # make sure input is numpy array\n",
        "        if X.ndim == 1:\n",
        "            X = X.reshape(1, -1)\n",
        "        self.h_in = np.dot(X, self.W1)\n",
        "        self.h_out = self.sigmoid(self.h_in)\n",
        "        self.o_in = np.dot(self.h_out, self.W2)\n",
        "        self.out = self.sigmoid(self.o_in)\n",
        "        return self.out\n",
        "\n",
        "    def backward(self, X, Y, y_pred):\n",
        "        error = Y - y_pred\n",
        "        d_out = self.lr * error * self.sigmoid(y_pred, derivative=True)\n",
        "\n",
        "        hidden_err = d_out.dot(self.W2.T)\n",
        "        d_hidden = self.lr * hidden_err * self.sigmoid(self.h_out, derivative=True)\n",
        "\n",
        "        self.W2 += self.h_out.T.dot(d_out)\n",
        "        self.W1 += X.T.dot(d_hidden)\n",
        "\n",
        "    def train(self, X, y, epochs):\n",
        "        loss_history = []\n",
        "        # Convert labels to one-hot\n",
        "        Y_onehot = np.zeros((len(y), 3))\n",
        "        Y_onehot[np.arange(len(y)), y.astype(int)] = 1\n",
        "\n",
        "        for epoch in range(epochs):\n",
        "            y_pred = self.feedForward(X)\n",
        "            self.backward(X, Y_onehot, y_pred)\n",
        "            loss = np.mean(np.square(Y_onehot - y_pred))\n",
        "            loss_history.append(loss)\n",
        "            if epoch % 100 == 0:\n",
        "                print(f\"Epoch {epoch}, Loss: {loss:.4f}\")\n",
        "        return loss_history"
      ],
      "metadata": {
        "id": "0JNvg7UZDjQi"
      },
      "execution_count": 37,
      "outputs": []
    },
    {
      "cell_type": "code",
      "source": [
        "# Train the NN\n",
        "\n",
        "nn = HealthNN(input_nodes=3, hidden_nodes=6, output_nodes=3, lr=0.01)\n",
        "losses = nn.train(X, y, epochs=1000)"
      ],
      "metadata": {
        "colab": {
          "base_uri": "https://localhost:8080/"
        },
        "id": "Nsw2v85LDsvK",
        "outputId": "86e8f5e2-04da-47d2-ee08-78c738486d19"
      },
      "execution_count": 38,
      "outputs": [
        {
          "output_type": "stream",
          "name": "stdout",
          "text": [
            "Epoch 0, Loss: 0.2499\n",
            "Epoch 100, Loss: 0.2225\n",
            "Epoch 200, Loss: 0.2217\n",
            "Epoch 300, Loss: 0.2217\n",
            "Epoch 400, Loss: 0.2216\n",
            "Epoch 500, Loss: 0.2216\n",
            "Epoch 600, Loss: 0.2216\n",
            "Epoch 700, Loss: 0.2216\n",
            "Epoch 800, Loss: 0.2216\n",
            "Epoch 900, Loss: 0.2216\n"
          ]
        }
      ]
    },
    {
      "cell_type": "code",
      "source": [
        "# Smooth the curve\n",
        "\n",
        "window = 20\n",
        "smooth_losses = np.convolve(losses, np.ones(window)/window, mode='valid')\n",
        "\n",
        "plt.figure(figsize=(8,5))\n",
        "plt.plot(losses, color=\"lightblue\", alpha=0.5, label=\"Raw Training Loss\")\n",
        "plt.plot(smooth_losses, color=\"red\", label=\"Smoothed Loss (MA)\")\n",
        "plt.xlabel(\"Epochs\")\n",
        "plt.ylabel(\"Loss\")\n",
        "plt.title(\"Training Loss Over Epochs\")\n",
        "plt.legend()\n",
        "plt.grid(True)\n",
        "plt.show()\n",
        "\n",
        "\n",
        "\n",
        "\n"
      ],
      "metadata": {
        "id": "6ZJfyqEREiXz",
        "colab": {
          "base_uri": "https://localhost:8080/",
          "height": 487
        },
        "outputId": "975048e6-01b5-4b01-98d8-3e8e23882950"
      },
      "execution_count": 40,
      "outputs": [
        {
          "output_type": "display_data",
          "data": {
            "text/plain": [
              "<Figure size 800x500 with 1 Axes>"
            ],
            "image/png": "[encoded data removed]"
          },
          "metadata": {}
        }
      ]
    },
    {
      "cell_type": "code",
      "source": [],
      "metadata": {
        "id": "GVjSuws_IOx8"
      },
      "execution_count": null,
      "outputs": []
    },
    {
      "cell_type": "code",
      "source": [
        "# Test Predictions\n",
        "\n",
        "print(\"Testing Predictions:\")\n",
        "print(\"Input [0,0,0] ->\", nn.feedForward([0,0,0]))\n",
        "print(\"Input [1,1,1] ->\", nn.feedForward([1,1,1]))\n",
        "print(\"Input [1,0,0] ->\", nn.feedForward([1,0,0]))\n",
        "print(\"Input [0,1,0] ->\", nn.feedForward([0,1,0]))\n"
      ],
      "metadata": {
        "colab": {
          "base_uri": "https://localhost:8080/"
        },
        "id": "KO5Atab-m22K",
        "outputId": "0421a3db-901d-4ab5-888e-4f942b39e24b"
      },
      "execution_count": 41,
      "outputs": [
        {
          "output_type": "stream",
          "name": "stdout",
          "text": [
            "Testing Predictions:\n",
            "Input [0,0,0] -> [[0.30042606 0.35066128 0.35133639]]\n",
            "Input [1,1,1] -> [[0.29851671 0.34917345 0.34988153]]\n",
            "Input [1,0,0] -> [[0.29941215 0.34986968 0.35057136]]\n",
            "Input [0,1,0] -> [[0.29992    0.35028099 0.35096492]]\n"
          ]
        }
      ]
    },
    {
      "cell_type": "code",
      "source": [],
      "metadata": {
        "id": "3dIHjsBLm8lI"
      },
      "execution_count": null,
      "outputs": []
    }
  ]
}